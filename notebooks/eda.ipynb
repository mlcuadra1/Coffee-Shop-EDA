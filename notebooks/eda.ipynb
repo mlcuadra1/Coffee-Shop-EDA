{
 "cells": [
  {
   "cell_type": "markdown",
   "metadata": {},
   "source": [
    "# Exploratory Data Analysis"
   ]
  },
  {
   "cell_type": "markdown",
   "metadata": {},
   "source": [
    "The main objectives for this notebook are:\n",
    "- Perform univariate analysis\n",
    "- Investigate the relationships between features\n",
    "- Highlight insights that can inform the stakeholders' decisions\n",
    "- Go through the next steps that will be used in feature engineering and machine learning"
   ]
  },
  {
   "cell_type": "code",
   "execution_count": 3,
   "metadata": {},
   "outputs": [],
   "source": [
    "# Import libraries\n",
    "import numpy as np\n",
    "import matplotlib.pyplot as plt\n",
    "import seaborn as sns\n",
    "import pandas as pd"
   ]
  },
  {
   "cell_type": "code",
   "execution_count": 10,
   "metadata": {},
   "outputs": [
    {
     "data": {
      "text/html": [
       "<div>\n",
       "<style scoped>\n",
       "    .dataframe tbody tr th:only-of-type {\n",
       "        vertical-align: middle;\n",
       "    }\n",
       "\n",
       "    .dataframe tbody tr th {\n",
       "        vertical-align: top;\n",
       "    }\n",
       "\n",
       "    .dataframe thead th {\n",
       "        text-align: right;\n",
       "    }\n",
       "</style>\n",
       "<table border=\"1\" class=\"dataframe\">\n",
       "  <thead>\n",
       "    <tr style=\"text-align: right;\">\n",
       "      <th></th>\n",
       "      <th>transaction_id</th>\n",
       "      <th>transaction_date</th>\n",
       "      <th>transaction_time</th>\n",
       "      <th>store_id</th>\n",
       "      <th>store_location</th>\n",
       "      <th>product_id</th>\n",
       "      <th>transaction_qty</th>\n",
       "      <th>unit_price</th>\n",
       "      <th>Total_Bill</th>\n",
       "      <th>product_category</th>\n",
       "      <th>product_type</th>\n",
       "      <th>product_detail</th>\n",
       "      <th>Size</th>\n",
       "      <th>Month Name</th>\n",
       "      <th>Day Name</th>\n",
       "      <th>Hour</th>\n",
       "      <th>Month</th>\n",
       "      <th>Day of Week</th>\n",
       "    </tr>\n",
       "  </thead>\n",
       "  <tbody>\n",
       "    <tr>\n",
       "      <th>0</th>\n",
       "      <td>1</td>\n",
       "      <td>2023-01-01</td>\n",
       "      <td>0 days 07:06:11</td>\n",
       "      <td>5</td>\n",
       "      <td>Lower Manhattan</td>\n",
       "      <td>32</td>\n",
       "      <td>2</td>\n",
       "      <td>3.0</td>\n",
       "      <td>6.0</td>\n",
       "      <td>Coffee</td>\n",
       "      <td>Gourmet brewed coffee</td>\n",
       "      <td>Ethiopia</td>\n",
       "      <td>Regular</td>\n",
       "      <td>January</td>\n",
       "      <td>Sunday</td>\n",
       "      <td>7</td>\n",
       "      <td>1</td>\n",
       "      <td>6</td>\n",
       "    </tr>\n",
       "    <tr>\n",
       "      <th>1</th>\n",
       "      <td>2</td>\n",
       "      <td>2023-01-01</td>\n",
       "      <td>0 days 07:08:56</td>\n",
       "      <td>5</td>\n",
       "      <td>Lower Manhattan</td>\n",
       "      <td>57</td>\n",
       "      <td>2</td>\n",
       "      <td>3.1</td>\n",
       "      <td>6.2</td>\n",
       "      <td>Tea</td>\n",
       "      <td>Brewed Chai tea</td>\n",
       "      <td>Spicy Eye Opener Chai</td>\n",
       "      <td>Large</td>\n",
       "      <td>January</td>\n",
       "      <td>Sunday</td>\n",
       "      <td>7</td>\n",
       "      <td>1</td>\n",
       "      <td>6</td>\n",
       "    </tr>\n",
       "    <tr>\n",
       "      <th>2</th>\n",
       "      <td>3</td>\n",
       "      <td>2023-01-01</td>\n",
       "      <td>0 days 07:14:04</td>\n",
       "      <td>5</td>\n",
       "      <td>Lower Manhattan</td>\n",
       "      <td>59</td>\n",
       "      <td>2</td>\n",
       "      <td>4.5</td>\n",
       "      <td>9.0</td>\n",
       "      <td>Drinking Chocolate</td>\n",
       "      <td>Hot chocolate</td>\n",
       "      <td>Dark chocolate</td>\n",
       "      <td>Large</td>\n",
       "      <td>January</td>\n",
       "      <td>Sunday</td>\n",
       "      <td>7</td>\n",
       "      <td>1</td>\n",
       "      <td>6</td>\n",
       "    </tr>\n",
       "    <tr>\n",
       "      <th>3</th>\n",
       "      <td>4</td>\n",
       "      <td>2023-01-01</td>\n",
       "      <td>0 days 07:20:24</td>\n",
       "      <td>5</td>\n",
       "      <td>Lower Manhattan</td>\n",
       "      <td>22</td>\n",
       "      <td>1</td>\n",
       "      <td>2.0</td>\n",
       "      <td>2.0</td>\n",
       "      <td>Coffee</td>\n",
       "      <td>Drip coffee</td>\n",
       "      <td>Our Old Time Diner Blend</td>\n",
       "      <td>Small</td>\n",
       "      <td>January</td>\n",
       "      <td>Sunday</td>\n",
       "      <td>7</td>\n",
       "      <td>1</td>\n",
       "      <td>6</td>\n",
       "    </tr>\n",
       "    <tr>\n",
       "      <th>4</th>\n",
       "      <td>5</td>\n",
       "      <td>2023-01-01</td>\n",
       "      <td>0 days 07:22:41</td>\n",
       "      <td>5</td>\n",
       "      <td>Lower Manhattan</td>\n",
       "      <td>57</td>\n",
       "      <td>2</td>\n",
       "      <td>3.1</td>\n",
       "      <td>6.2</td>\n",
       "      <td>Tea</td>\n",
       "      <td>Brewed Chai tea</td>\n",
       "      <td>Spicy Eye Opener Chai</td>\n",
       "      <td>Large</td>\n",
       "      <td>January</td>\n",
       "      <td>Sunday</td>\n",
       "      <td>7</td>\n",
       "      <td>1</td>\n",
       "      <td>6</td>\n",
       "    </tr>\n",
       "  </tbody>\n",
       "</table>\n",
       "</div>"
      ],
      "text/plain": [
       "   transaction_id transaction_date transaction_time  store_id  \\\n",
       "0               1       2023-01-01  0 days 07:06:11         5   \n",
       "1               2       2023-01-01  0 days 07:08:56         5   \n",
       "2               3       2023-01-01  0 days 07:14:04         5   \n",
       "3               4       2023-01-01  0 days 07:20:24         5   \n",
       "4               5       2023-01-01  0 days 07:22:41         5   \n",
       "\n",
       "    store_location  product_id  transaction_qty  unit_price  Total_Bill  \\\n",
       "0  Lower Manhattan          32                2         3.0         6.0   \n",
       "1  Lower Manhattan          57                2         3.1         6.2   \n",
       "2  Lower Manhattan          59                2         4.5         9.0   \n",
       "3  Lower Manhattan          22                1         2.0         2.0   \n",
       "4  Lower Manhattan          57                2         3.1         6.2   \n",
       "\n",
       "     product_category           product_type            product_detail  \\\n",
       "0              Coffee  Gourmet brewed coffee                  Ethiopia   \n",
       "1                 Tea        Brewed Chai tea     Spicy Eye Opener Chai   \n",
       "2  Drinking Chocolate          Hot chocolate            Dark chocolate   \n",
       "3              Coffee            Drip coffee  Our Old Time Diner Blend   \n",
       "4                 Tea        Brewed Chai tea     Spicy Eye Opener Chai   \n",
       "\n",
       "      Size Month Name Day Name  Hour  Month  Day of Week  \n",
       "0  Regular    January   Sunday     7      1            6  \n",
       "1    Large    January   Sunday     7      1            6  \n",
       "2    Large    January   Sunday     7      1            6  \n",
       "3    Small    January   Sunday     7      1            6  \n",
       "4    Large    January   Sunday     7      1            6  "
      ]
     },
     "execution_count": 10,
     "metadata": {},
     "output_type": "execute_result"
    }
   ],
   "source": [
    "data = pd.read_csv('../data/coffee_cleaned.csv')\n",
    "data.head()"
   ]
  },
  {
   "cell_type": "code",
   "execution_count": 11,
   "metadata": {},
   "outputs": [
    {
     "data": {
      "text/plain": [
       "(149116, 18)"
      ]
     },
     "execution_count": 11,
     "metadata": {},
     "output_type": "execute_result"
    }
   ],
   "source": [
    "data.shape"
   ]
  },
  {
   "cell_type": "code",
   "execution_count": 12,
   "metadata": {},
   "outputs": [
    {
     "name": "stdout",
     "output_type": "stream",
     "text": [
      "<class 'pandas.core.frame.DataFrame'>\n",
      "RangeIndex: 149116 entries, 0 to 149115\n",
      "Data columns (total 18 columns):\n",
      " #   Column            Non-Null Count   Dtype  \n",
      "---  ------            --------------   -----  \n",
      " 0   transaction_id    149116 non-null  int64  \n",
      " 1   transaction_date  149116 non-null  object \n",
      " 2   transaction_time  149116 non-null  object \n",
      " 3   store_id          149116 non-null  int64  \n",
      " 4   store_location    149116 non-null  object \n",
      " 5   product_id        149116 non-null  int64  \n",
      " 6   transaction_qty   149116 non-null  int64  \n",
      " 7   unit_price        149116 non-null  float64\n",
      " 8   Total_Bill        149116 non-null  float64\n",
      " 9   product_category  149116 non-null  object \n",
      " 10  product_type      149116 non-null  object \n",
      " 11  product_detail    149116 non-null  object \n",
      " 12  Size              149116 non-null  object \n",
      " 13  Month Name        149116 non-null  object \n",
      " 14  Day Name          149116 non-null  object \n",
      " 15  Hour              149116 non-null  int64  \n",
      " 16  Month             149116 non-null  int64  \n",
      " 17  Day of Week       149116 non-null  int64  \n",
      "dtypes: float64(2), int64(7), object(9)\n",
      "memory usage: 20.5+ MB\n"
     ]
    }
   ],
   "source": [
    "data.info()"
   ]
  },
  {
   "cell_type": "code",
   "execution_count": 13,
   "metadata": {},
   "outputs": [
    {
     "data": {
      "text/plain": [
       "transaction_id      0\n",
       "transaction_date    0\n",
       "transaction_time    0\n",
       "store_id            0\n",
       "store_location      0\n",
       "product_id          0\n",
       "transaction_qty     0\n",
       "unit_price          0\n",
       "Total_Bill          0\n",
       "product_category    0\n",
       "product_type        0\n",
       "product_detail      0\n",
       "Size                0\n",
       "Month Name          0\n",
       "Day Name            0\n",
       "Hour                0\n",
       "Month               0\n",
       "Day of Week         0\n",
       "dtype: int64"
      ]
     },
     "execution_count": 13,
     "metadata": {},
     "output_type": "execute_result"
    }
   ],
   "source": [
    "data.isna().sum()"
   ]
  },
  {
   "cell_type": "code",
   "execution_count": 39,
   "metadata": {},
   "outputs": [
    {
     "name": "stdout",
     "output_type": "stream",
     "text": [
      "<class 'pandas.core.series.Series'>\n"
     ]
    },
    {
     "data": {
      "image/png": "[encoded data removed]",
      "text/plain": [
       "<Figure size 640x480 with 1 Axes>"
      ]
     },
     "metadata": {},
     "output_type": "display_data"
    }
   ],
   "source": [
    "daily_sales = data.groupby(data['transaction_date']).size()\n",
    "\n",
    "print(type(daily_sales))\n",
    "\n",
    "fig, ax = plt.subplots()\n",
    "daily_sales.plot(rot=45)\n",
    "\n",
    "ax.set_xlabel(\"Date\")\n",
    "ax.set_ylabel(\"Sales\")\n",
    "\n",
    "plt.show()"
   ]
  }
 ],
 "metadata": {
  "kernelspec": {
   "display_name": "Python 3",
   "language": "python",
   "name": "python3"
  },
  "language_info": {
   "codemirror_mode": {
    "name": "ipython",
    "version": 3
   },
   "file_extension": ".py",
   "mimetype": "text/x-python",
   "name": "python",
   "nbconvert_exporter": "python",
   "pygments_lexer": "ipython3",
   "version": "3.12.3"
  }
 },
 "nbformat": 4,
 "nbformat_minor": 2
}
